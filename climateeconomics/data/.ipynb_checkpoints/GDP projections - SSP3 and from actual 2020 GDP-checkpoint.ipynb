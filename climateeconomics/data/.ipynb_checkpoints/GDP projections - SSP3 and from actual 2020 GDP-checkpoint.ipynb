{
 "cells": [
  {
   "cell_type": "markdown",
   "id": "0",
   "metadata": {},
   "source": [
    "## SSP3 population projection 2020 - 2100\n",
    "\n",
    "[source](https://tntcat.iiasa.ac.at/SspDb/dsd?Action=htmlpage&page=40)"
   ]
  },
  {
   "cell_type": "code",
   "execution_count": null,
   "id": "1",
   "metadata": {},
   "outputs": [],
   "source": [
    "import numpy as np\n",
    "years = np.arange(2020, 2101)\n",
    "x_years_ssp3 = list(np.arange(2020, 2101, 10))\n",
    "y_pop_ssp3 = np.array([7697.854, 8514.307, 9257.220, 9957.131, 10574.362, 11117.377, 11633.415, 12134.327, 12620.136])\n",
    "\n",
    "from scipy.interpolate import interp1d\n",
    "f = interp1d(x_years_ssp3, y_pop_ssp3)\n",
    "\n",
    "population_interpolated_ssp3_values = f(years) \n",
    "\n",
    "import matplotlib.pyplot as plt\n",
    "plt.title(\"SSP3 world population projection (billions)\")\n",
    "\n",
    "plt.plot(years, population_interpolated_ssp3_values/1000, label=\"interpolation SSP3 scenario\", zorder=0);\n",
    "plt.scatter(x_years_ssp3, y_pop_ssp3/1000, c=\"r\", zorder=1, label=\"SSP3 values\");\n",
    "plt.legend();"
   ]
  },
  {
   "cell_type": "markdown",
   "id": "2",
   "metadata": {},
   "source": [
    "## SSP 3 World GDP projection"
   ]
  },
  {
   "cell_type": "code",
   "execution_count": null,
   "id": "3",
   "metadata": {},
   "outputs": [],
   "source": [
    "import pandas as pd\n",
    "df_ssp3 = pd.DataFrame()\n",
    "\n",
    "inflation_2005_to_2020 = 1.33 # source: https://www.in2013dollars.com/us/inflation/2005?endYear=2020&amount=1\n",
    "SSP3_2020_GDP_2005_US_DOLLAR = 97.447997 # source: https://tntcat.iiasa.ac.at/SspDb/dsd?Action=htmlpage&page=40\n",
    "SSP3_2020_GDP_2020_US_DOLLAR = SSP3_2020_GDP_2005_US_DOLLAR * inflation_2005_to_2020\n",
    "\n",
    "actual_2020_GDP_2020_US_DOLLAR = 84.89492 #source : https://www.statista.com/statistics/268750/global-gross-domestic-product-gdp/\n",
    "\n",
    "\n",
    "\n",
    "def gdp_projection(init_val) -> list[float]:\n",
    "    current_gdp = init_val\n",
    "    gdps = [current_gdp]\n",
    "    for year in years[1:]:\n",
    "        if year <= 2040:\n",
    "            gdp_growth = 1.019\n",
    "        if 2040 < year <= 2100:\n",
    "            gdp_growth = 1.005\n",
    "        current_gdp *= gdp_growth\n",
    "        gdps.append(current_gdp)\n",
    "    return gdps\n",
    "    \n",
    "df_ssp3[\"years\"] = years\n",
    "df_ssp3[\"gross_output\"] = gdp_projection(SSP3_2020_GDP_2020_US_DOLLAR)\n",
    "df_ssp3[\"pc_consumption\"] = df_ssp3[\"gross_output\"] / population_interpolated_ssp3_values * 1000\n",
    "df_ssp3.to_csv(\"economics_df_ssp3.csv\")\n",
    "\n",
    "\n",
    "df_ssp3_adjusted_gdp = df_ssp3.copy()\n",
    "df_ssp3_adjusted_gdp[\"gross_output\"] = gdp_projection(actual_2020_GDP_2020_US_DOLLAR)\n",
    "df_ssp3_adjusted_gdp[\"pc_consumption\"] = df_ssp3_adjusted_gdp[\"gross_output\"] / population_interpolated_ssp3_values * 1000\n",
    "df_ssp3_adjusted_gdp.to_csv(\"economics_df_ssp3_adjusted_gdp.csv\")\n",
    "\n",
    "fig, ax = plt.subplots(1,2, figsize=(11,5))\n",
    "fig.suptitle(\"SSP3 projections\")\n",
    "ax[0].set_title(\"SSP3 world GDP projection (Trillion US$)\")\n",
    "ax[0].plot(years, df_ssp3[\"gross_output\"], label=\"SSP3 GDP projection (2005)\");\n",
    "ax[0].plot(years, df_ssp3_adjusted_gdp[\"gross_output\"], label=\"SSP3 GDP projection (adjusted with actual 2020 GDP)\");\n",
    "ax[0].legend();\n",
    "ax[1].set_title(\"SSP3 Per capita consumption\")\n",
    "ax[1].plot(years, df_ssp3[\"pc_consumption\"], label=\"SSP3 GDP projection (2005)\");\n",
    "ax[1].plot(years, df_ssp3_adjusted_gdp[\"pc_consumption\"], label=\"SSP3 GDP projection (adjusted with actual 2020 GDP)\");\n",
    "ax[1].legend();\n",
    "fig.tight_layout();"
   ]
  }
 ],
 "metadata": {
  "kernelspec": {
   "display_name": "Python 3 (ipykernel)",
   "language": "python",
   "name": "python3"
  },
  "language_info": {
   "codemirror_mode": {
    "name": "ipython",
    "version": 3
   },
   "file_extension": ".py",
   "mimetype": "text/x-python",
   "name": "python",
   "nbconvert_exporter": "python",
   "pygments_lexer": "ipython3",
   "version": "3.9.13"
  }
 },
 "nbformat": 4,
 "nbformat_minor": 5
}
