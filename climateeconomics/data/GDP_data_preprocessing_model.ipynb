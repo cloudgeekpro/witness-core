{
 "cells": [
  {
   "cell_type": "code",
   "execution_count": null,
   "id": "0",
   "metadata": {},
   "outputs": [],
   "source": [
    "import pandas as pd\n",
    "import numpy as np\n",
    "import matplotlib.pyplot as plt "
   ]
  },
  {
   "cell_type": "code",
   "execution_count": null,
   "id": "1",
   "metadata": {},
   "outputs": [],
   "source": [
    "from pycountry_convert import country_alpha2_to_continent_code, country_name_to_country_alpha2\n",
    "import pycountry"
   ]
  },
  {
   "cell_type": "markdown",
   "id": "2",
   "metadata": {},
   "source": [
    "## Compute average percentage of gdp per country within the same group"
   ]
  },
  {
   "cell_type": "markdown",
   "id": "3",
   "metadata": {},
   "source": [
    "### Prepare variables with IMF repartition"
   ]
  },
  {
   "cell_type": "code",
   "execution_count": null,
   "id": "4",
   "metadata": {},
   "outputs": [],
   "source": [
    "advanced_economies = [\n",
    "    \"Andorra\", \"Australia\", \"Austria\", \"Belgium\", \"Canada\", \"Croatia\", \"Cyprus\", \"Czech Republic\",\n",
    "    \"Denmark\", \"Estonia\", \"Finland\", \"France\", \"Germany\", \"Greece\", \"Hong Kong SAR\", \"Iceland\",\n",
    "    \"Ireland\", \"Israel\", \"Italy\", \"Japan\", \"Korea. Republic of\", \"Latvia\", \"Lithuania\", \"Luxembourg\",\n",
    "    \"Macao SAR\", \"Malta\", \"Netherlands\", \"New Zealand\", \"Norway\", \"Portugal\", \"Puerto Rico\", \"San Marino\",\n",
    "    \"Singapore\", \"Slovak Republic\", \"Slovenia\", \"Spain\", \"Sweden\", \"Switzerland\", \"Taiwan Province of China\",\n",
    "    \"United Kingdom\", \"United States\"\n",
    "]\n",
    "\n",
    "emerging_developing_europe = [\n",
    "    \"Albania\", \"Belarus\", \"Bosnia and Herzegovina\", \"Bulgaria\", \"Hungary\", \"Kosovo\", \"Moldova\",\n",
    "    \"Montenegro\", \"North Macedonia\", \"Poland\", \"Romania\", \"Russian Federation\", \"Serbia\", \"Türkiye. Republic of\",\n",
    "    \"Ukraine\"\n",
    "]\n",
    "\n",
    "emerging_developing_asia = [\n",
    "    \"Bangladesh\", \"Bhutan\", \"Brunei Darussalam\", \"Cambodia\", \"China. People's Republic of\", \"Fiji\",\n",
    "    \"India\", \"Indonesia\", \"Kiribati\", \"Lao P.D.R.\", \"Malaysia\", \"Maldives\", \"Marshall Islands\",\n",
    "    \"Micronesia. Fed. States of\", \"Mongolia\", \"Myanmar\", \"Nauru\", \"Nepal\", \"Palau\", \"Papua New Guinea\",\n",
    "    \"Philippines\", \"Samoa\", \"Solomon Islands\", \"Sri Lanka\", \"Thailand\", \"Timor-Leste\", \"Tonga\", \"Tuvalu\",\n",
    "    \"Vanuatu\", \"Vietnam\"\n",
    "]\n",
    "\n",
    "latin_america_caribbean = [\n",
    "    \"Antigua and Barbuda\", \"Argentina\", \"Bahamas. The\", \"Barbados\", \"Belize\", \"Bolivia\", \"Brazil\", \"Chile\",\n",
    "    \"Colombia\", \"Costa Rica\", \"Curacao\", \"Dominica\", \"Dominican Republic\", \"Ecuador\", \"El Salvador\", \"Grenada\",\n",
    "    \"Guatemala\", \"Guyana\", \"Haiti\", \"Honduras\", \"Jamaica\", \"Mexico\", \"Nicaragua\", \"Panama\", \"Paraguay\", \"Peru\",\n",
    "    \"Saint Kitts and Nevis\", \"Saint Lucia\", \"Saint Vincent and the Grenadines\", \"Sint Maarten\", \"Suriname\",\n",
    "    \"Trinidad and Tobago\", \"Uruguay\", \"Venezuela\"\n",
    "]\n",
    "\n",
    "sub_saharan_africa = [\n",
    "    \"Angola\", \"Benin\", \"Botswana\", \"Burkina Faso\", \"Burundi\", \"Cabo Verde\", \"Cameroon\", \"Central African Republic\",\n",
    "    \"Chad\", \"Comoros\", \"Congo. Dem. Rep. of the\", \"Congo. Republic of\", \"Côte d'Ivoire\", \"Equatorial Guinea\",\n",
    "    \"Eritrea\", \"Eswatini\", \"Ethiopia\", \"Gabon\", \"Gambia. The\", \"Ghana\", \"Guinea\", \"Guinea-Bissau\", \"Kenya\",\n",
    "    \"Lesotho\", \"Liberia\", \"Madagascar\", \"Malawi\", \"Mali\", \"Mauritius\", \"Mozambique\", \"Namibia\", \"Niger\",\n",
    "    \"Nigeria\", \"Rwanda\", \"Senegal\", \"Seychelles\", \"Sierra Leone\", \"South Africa\", \"South Sudan. Republic of\",\n",
    "    \"São Tomé and Príncipe\", \"Tanzania\", \"Togo\", \"Uganda\", \"Zambia\", \"Zimbabwe\"\n",
    "]\n",
    "\n",
    "middle_east_central_asia = [\n",
    "    \"Afghanistan\", \"Algeria\", \"Armenia\", \"Azerbaijan\", \"Bahrain\", \"Djibouti\", \"Egypt\", \"Georgia\", \"Iran\",\n",
    "    \"Iraq\", \"Jordan\", \"Kazakhstan\", \"Kuwait\", \"Kyrgyz Republic\", \"Lebanon\", \"Libya\", \"Mauritania\", \"Morocco\",\n",
    "    \"Oman\", \"Pakistan\", \"Qatar\", \"Saudi Arabia\", \"Somalia\", \"Sudan\", \"Syria\", \"Tajikistan\", \"Tunisia\",\n",
    "    \"Turkmenistan\", \"United Arab Emirates\", \"Uzbekistan\", \"West Bank and Gaza\", \"Yemen\"\n",
    "]\n",
    "\n",
    "dict_groups = {\"advanced_economies\": advanced_economies, \n",
    "               \"emerging_developing_europe\": emerging_developing_europe, \n",
    "               \"emerging_developing_asia\": emerging_developing_asia, \n",
    "               \"latin_america_caribbean\": latin_america_caribbean, \n",
    "               \"sub_saharan_africa\": sub_saharan_africa, \n",
    "               \"middle_east_central_asia\": middle_east_central_asia\n",
    "              }"
   ]
  },
  {
   "cell_type": "code",
   "execution_count": null,
   "id": "5",
   "metadata": {},
   "outputs": [],
   "source": [
    "dict_groups"
   ]
  },
  {
   "cell_type": "markdown",
   "id": "6",
   "metadata": {},
   "source": [
    "### Read csv, preprocess data"
   ]
  },
  {
   "cell_type": "code",
   "execution_count": null,
   "id": "7",
   "metadata": {},
   "outputs": [],
   "source": [
    "df_unprocessed = pd.read_csv('imf_ppp.csv')"
   ]
  },
  {
   "cell_type": "code",
   "execution_count": null,
   "id": "8",
   "metadata": {},
   "outputs": [],
   "source": [
    "# count no data\n",
    "lines_no_data = df_unprocessed.apply(lambda row: row[row == \"no data\"].count(), axis=1)\n",
    "no_data_count = lines_no_data[lines_no_data>0]"
   ]
  },
  {
   "cell_type": "code",
   "execution_count": null,
   "id": "9",
   "metadata": {},
   "outputs": [],
   "source": [
    "# drop columns on projection\n",
    "df_unprocessed  = df_unprocessed.drop(columns=[str(year) for year in range(2021,2029)])"
   ]
  },
  {
   "cell_type": "code",
   "execution_count": null,
   "id": "10",
   "metadata": {},
   "outputs": [],
   "source": [
    "# replace no data with nan\n",
    "df_unprocessed = df_unprocessed.replace(\"no data\", np.nan)"
   ]
  },
  {
   "cell_type": "code",
   "execution_count": null,
   "id": "11",
   "metadata": {},
   "outputs": [],
   "source": [
    "# rename column of country name\n",
    "df_unprocessed.rename(columns={\"GDP current prices (Purchasing power parity billions of international dollars)\": \"country_name\"}, inplace=True)"
   ]
  },
  {
   "cell_type": "code",
   "execution_count": null,
   "id": "12",
   "metadata": {},
   "outputs": [],
   "source": [
    "# create group column to make \n",
    "for group, country in dict_groups.items(): \n",
    "    df_unprocessed.loc[df_unprocessed[\"country_name\"].isin(country), \"group\"] = group"
   ]
  },
  {
   "cell_type": "code",
   "execution_count": null,
   "id": "13",
   "metadata": {},
   "outputs": [],
   "source": [
    "# manual fill some missing data\n",
    "df_unprocessed.loc[8, \"group\"] = \"latin_america_caribbean\"\n",
    "df_unprocessed.loc[40, \"group\"] = \"sub_saharan_africa\"\n",
    "df_unprocessed.loc[128, \"group\"] = \"emerging_developing_europe\"\n",
    "df_unprocessed.loc[128, \"country_name\"] = 'North Macedonia'"
   ]
  },
  {
   "cell_type": "code",
   "execution_count": null,
   "id": "14",
   "metadata": {},
   "outputs": [],
   "source": [
    "df_unprocessed"
   ]
  },
  {
   "cell_type": "code",
   "execution_count": null,
   "id": "15",
   "metadata": {},
   "outputs": [],
   "source": [
    "df_unprocessed"
   ]
  },
  {
   "cell_type": "code",
   "execution_count": null,
   "id": "16",
   "metadata": {},
   "outputs": [],
   "source": [
    "num_col = df_unprocessed.columns.drop(['country_name', 'group'])\n",
    "a = df_unprocessed.copy()\n",
    "a[num_col] = df_unprocessed[num_col].apply(pd.to_numeric, errors='coerce')"
   ]
  },
  {
   "cell_type": "code",
   "execution_count": null,
   "id": "17",
   "metadata": {},
   "outputs": [],
   "source": [
    "a_aggregated = a.groupby('group').sum()"
   ]
  },
  {
   "cell_type": "code",
   "execution_count": null,
   "id": "18",
   "metadata": {},
   "outputs": [],
   "source": [
    "a_aggregated"
   ]
  },
  {
   "cell_type": "code",
   "execution_count": null,
   "id": "19",
   "metadata": {},
   "outputs": [],
   "source": [
    "merged_df = pd.merge(df_unprocessed, a_aggregated, on=['group'])"
   ]
  },
  {
   "cell_type": "code",
   "execution_count": null,
   "id": "20",
   "metadata": {},
   "outputs": [],
   "source": [
    "for year in list(a_aggregated.columns):\n",
    "    merged_df[f'{year}_x'] = merged_df[f'{year}_x'].astype(float)\n",
    "    merged_df[f'{year}_y'] = merged_df[f'{year}_y'].astype(float)\n",
    "    merged_df[f'percentage_gdp_{year}'] = merged_df[f'{year}_x'].divide(merged_df[f'{year}_y'], fill_value=0) * 100"
   ]
  },
  {
   "cell_type": "code",
   "execution_count": null,
   "id": "21",
   "metadata": {},
   "outputs": [],
   "source": [
    "group_data = merged_df[merged_df['group']=='advanced_economies']"
   ]
  },
  {
   "cell_type": "code",
   "execution_count": null,
   "id": "22",
   "metadata": {},
   "outputs": [],
   "source": [
    "std_by_country = group_data[[f'percentage_gdp_{year}' for year in range(1980, 2020)]].std()\n"
   ]
  },
  {
   "cell_type": "code",
   "execution_count": null,
   "id": "23",
   "metadata": {},
   "outputs": [],
   "source": [
    "columns_to_calculate_std = [f'percentage_gdp_{year}' for year in range(1980, 2020)]\n",
    "std_by_country = group_data[columns_to_calculate_std].std(axis=1)"
   ]
  },
  {
   "cell_type": "code",
   "execution_count": null,
   "id": "24",
   "metadata": {},
   "outputs": [],
   "source": [
    "columns_to_calculate_std = [f'percentage_gdp_{year}' for year in range(1980, 2020)]\n",
    "mean_by_country = group_data[columns_to_calculate_std].mean(axis=1)"
   ]
  },
  {
   "cell_type": "code",
   "execution_count": null,
   "id": "25",
   "metadata": {},
   "outputs": [],
   "source": [
    "std_by_country"
   ]
  },
  {
   "cell_type": "code",
   "execution_count": null,
   "id": "26",
   "metadata": {},
   "outputs": [],
   "source": [
    "df_std = pd.DataFrame(columns=['country_name', 'std'])\n",
    "df_std['country_name'] = group_data['country_name']\n",
    "df_std['std'] = std_by_country"
   ]
  },
  {
   "cell_type": "code",
   "execution_count": null,
   "id": "27",
   "metadata": {},
   "outputs": [],
   "source": [
    "df_std"
   ]
  },
  {
   "cell_type": "code",
   "execution_count": null,
   "id": "28",
   "metadata": {},
   "outputs": [],
   "source": [
    "columns_to_calculate_std = [f'percentage_gdp_{year}' for year in range(2000, 2020)]\n",
    "\n",
    "def create_chart_for_group(group_of_countries): \n",
    "    # get data \n",
    "    num_col = df_unprocessed.columns.drop(['country_name', 'group'])\n",
    "    a = df_unprocessed.copy()\n",
    "    a[num_col] = df_unprocessed[num_col].apply(pd.to_numeric, errors='coerce')\n",
    "    a_aggregated = a.groupby('group').sum()\n",
    "    merged_df = pd.merge(df_unprocessed, a_aggregated, on=['group'])\n",
    "    for year in list(a_aggregated.columns):\n",
    "        merged_df[f'{year}_x'] = merged_df[f'{year}_x'].astype(float)\n",
    "        merged_df[f'{year}_y'] = merged_df[f'{year}_y'].astype(float)\n",
    "        merged_df[f'percentage_gdp_{year}'] = merged_df[f'{year}_x'].divide(merged_df[f'{year}_y'], fill_value=0) * 100\n",
    "    group_data = merged_df[merged_df['group']==group_of_countries]\n",
    "    fig, ax = plt.subplots(figsize=(10, 6))\n",
    "\n",
    "    for country in group_data['country_name']:\n",
    "        percentages = [group_data[f'percentage_gdp_{year}'].loc[group_data['country_name'] == country].iloc[0] for year in range(1996, 2021)\n",
    "                                                               ]\n",
    "        ax.plot(range(1996,2021), percentages, label=country)\n",
    "\n",
    "    ax.legend()\n",
    "    fig.suptitle(f'percentage of GDP within the group for {group_of_countries.title()}', fontsize=20)\n",
    "    plt.xlabel('years', fontsize=18)\n",
    "    plt.ylabel('percentage GDP', fontsize=16)\n",
    "    plt.show()\n",
    "    \n",
    "    # compute variation\n",
    "    std_by_country = group_data[columns_to_calculate_std].std(axis=1)\n",
    "    mean_by_country = group_data[columns_to_calculate_std].mean(axis=1)\n",
    "    df_std = pd.DataFrame(columns=['country_name', 'std', 'mean'])\n",
    "    df_std['country_name'] = group_data['country_name']\n",
    "    df_std['std'] = std_by_country\n",
    "    df_std['mean'] = mean_by_country\n",
    "    print(df_std)\n"
   ]
  },
  {
   "cell_type": "code",
   "execution_count": null,
   "id": "29",
   "metadata": {},
   "outputs": [],
   "source": [
    "create_chart_for_group(\"emerging_developing_europe\")"
   ]
  },
  {
   "cell_type": "code",
   "execution_count": null,
   "id": "30",
   "metadata": {},
   "outputs": [],
   "source": [
    "create_chart_for_group(\"emerging_developing_asia\")"
   ]
  },
  {
   "cell_type": "code",
   "execution_count": null,
   "id": "31",
   "metadata": {},
   "outputs": [],
   "source": [
    "create_chart_for_group(\"latin_america_caribbean\")"
   ]
  },
  {
   "cell_type": "code",
   "execution_count": null,
   "id": "32",
   "metadata": {},
   "outputs": [],
   "source": [
    "create_chart_for_group(\"sub_saharan_africa\")"
   ]
  },
  {
   "cell_type": "code",
   "execution_count": null,
   "id": "33",
   "metadata": {},
   "outputs": [],
   "source": [
    "create_chart_for_group(\"middle_east_central_asia\")"
   ]
  },
  {
   "cell_type": "markdown",
   "id": "34",
   "metadata": {},
   "source": [
    "## Linear regression on  gdp  per group to compute gdp share per group"
   ]
  },
  {
   "cell_type": "markdown",
   "id": "35",
   "metadata": {},
   "source": [
    "# Use data from IMF "
   ]
  },
  {
   "cell_type": "markdown",
   "id": "36",
   "metadata": {},
   "source": [
    "## Preprocess data "
   ]
  },
  {
   "cell_type": "code",
   "execution_count": null,
   "id": "37",
   "metadata": {},
   "outputs": [],
   "source": [
    "from sklearn.linear_model import LinearRegression\n",
    "from sklearn.preprocessing import StandardScaler"
   ]
  },
  {
   "cell_type": "code",
   "execution_count": null,
   "id": "38",
   "metadata": {},
   "outputs": [],
   "source": [
    "ppp_df = pd.read_csv('ppp_region.csv', sep=\";\")"
   ]
  },
  {
   "cell_type": "code",
   "execution_count": null,
   "id": "39",
   "metadata": {},
   "outputs": [],
   "source": [
    "ppp_df.drop(0, inplace=True)\n",
    "ppp_df.drop(columns=[str(year) for year in range(1980, 1992)], inplace=True)\n",
    "ppp_df.drop(columns=[str(year) for year in range(2024, 2029)], inplace=True)"
   ]
  },
  {
   "cell_type": "code",
   "execution_count": null,
   "id": "40",
   "metadata": {},
   "outputs": [],
   "source": [
    "columns_to_modify = [str(year) for year in range(1992, 2024)]\n"
   ]
  },
  {
   "cell_type": "code",
   "execution_count": null,
   "id": "41",
   "metadata": {},
   "outputs": [],
   "source": [
    "ppp_df[columns_to_modify] = ppp_df[columns_to_modify].replace(',', '.', regex=True).astype(float)"
   ]
  },
  {
   "cell_type": "code",
   "execution_count": null,
   "id": "42",
   "metadata": {},
   "outputs": [],
   "source": [
    "ppp_df = ppp_df.rename(columns={'GDP current prices (Purchasing power parity billions of international dollars)': 'group_name'})"
   ]
  },
  {
   "cell_type": "markdown",
   "id": "43",
   "metadata": {},
   "source": [
    "### create linear model with ppp per region"
   ]
  },
  {
   "cell_type": "code",
   "execution_count": null,
   "id": "44",
   "metadata": {},
   "outputs": [],
   "source": [
    "years_train = [str(year) for year in range(2000, 2023)]\n",
    "train_data = ppp_df[years_train].transpose()\n",
    "train_data.columns = ppp_df['group_name'].values\n",
    "train_data.dropna(inplace=True)\n",
    "X_train = train_data.index.astype(int).values.reshape(-1,1)\n",
    "y_train = train_data.values\n",
    "model = LinearRegression()\n",
    "model.fit(X_train, y_train)"
   ]
  },
  {
   "cell_type": "markdown",
   "id": "45",
   "metadata": {},
   "source": [
    "### Predict on 2023 to 2100, plot the GDP percentage according to model"
   ]
  },
  {
   "cell_type": "code",
   "execution_count": null,
   "id": "46",
   "metadata": {},
   "outputs": [],
   "source": [
    "x_predict = np.arange(2023, 2100).reshape(-1,1)\n",
    "y_predict = model.predict(x_predict)"
   ]
  },
  {
   "cell_type": "code",
   "execution_count": null,
   "id": "47",
   "metadata": {},
   "outputs": [],
   "source": [
    "percentage_y = y_predict / y_predict.sum(axis = 1, keepdims=True) * 100"
   ]
  },
  {
   "cell_type": "code",
   "execution_count": null,
   "id": "48",
   "metadata": {},
   "outputs": [],
   "source": [
    "# plot estimated gdp percentage per group\n",
    "fig, ax = plt.subplots(figsize=(10, 6))\n",
    "\n",
    "for i in range(y_predict.shape[1]):\n",
    "    plt.plot(x_predict, percentage_y[:, i],label=f'Group {list(dict_groups.keys())[i]}', linestyle='--')\n",
    "ax.legend()\n",
    "plt.xlabel('years')\n",
    "plt.ylabel('percentage GDP')\n",
    "fig.suptitle(f'Estimated  percentage of GDP per group', fontsize=20)\n"
   ]
  },
  {
   "cell_type": "code",
   "execution_count": null,
   "id": "49",
   "metadata": {},
   "outputs": [],
   "source": [
    "# get parameters of model\n",
    "a = model.coef_\n",
    "b = model.intercept_"
   ]
  },
  {
   "cell_type": "markdown",
   "id": "50",
   "metadata": {},
   "source": [
    "### Compute mean share of each country within it group"
   ]
  },
  {
   "cell_type": "code",
   "execution_count": null,
   "id": "51",
   "metadata": {},
   "outputs": [],
   "source": [
    "columns_to_calculate_std = [f'percentage_gdp_{year}' for year in range(2000, 2020)]\n"
   ]
  },
  {
   "cell_type": "code",
   "execution_count": null,
   "id": "52",
   "metadata": {},
   "outputs": [],
   "source": [
    "df_country_percentage = pd.DataFrame(columns = ['country_name', 'group', 'mean_percentage'])\n",
    "df_country_percentage['mean_percentage'] = merged_df[columns_to_calculate_std].mean(axis=1) \n",
    "df_country_percentage['country_name'] = merged_df['country_name']\n",
    "df_country_percentage['group'] = merged_df['group']"
   ]
  },
  {
   "cell_type": "code",
   "execution_count": null,
   "id": "53",
   "metadata": {},
   "outputs": [],
   "source": [
    "df_country_percentage"
   ]
  },
  {
   "cell_type": "code",
   "execution_count": null,
   "id": "54",
   "metadata": {},
   "outputs": [],
   "source": [
    "# export dataframe if needed \n"
   ]
  },
  {
   "cell_type": "code",
   "execution_count": null,
   "id": "55",
   "metadata": {},
   "outputs": [],
   "source": []
  }
 ],
 "metadata": {
  "kernelspec": {
   "display_name": "Python 3 (ipykernel)",
   "language": "python",
   "name": "python3"
  },
  "language_info": {
   "codemirror_mode": {
    "name": "ipython",
    "version": 3
   },
   "file_extension": ".py",
   "mimetype": "text/x-python",
   "name": "python",
   "nbconvert_exporter": "python",
   "pygments_lexer": "ipython3",
   "version": "3.9.13"
  }
 },
 "nbformat": 4,
 "nbformat_minor": 5
}
